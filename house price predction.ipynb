{
 "cells": [
  {
   "cell_type": "markdown",
   "id": "9d7129ed",
   "metadata": {},
   "source": [
    "## House Price Prediction Challenge"
   ]
  },
  {
   "cell_type": "markdown",
   "id": "c7392328",
   "metadata": {},
   "source": [
    "House Price Prediction Challenge -\n",
    "\n",
    "Overview: Welcome to the House Price Prediction Challenge, you will test your regression skills by designing an algorithm to accurately predict the house prices in India. Accurately predicting house prices can be a daunting task. The buyers are just not concerned about the size(square feet) of the house and there are various other factors that play a key role to decide the price of a house/property. It can be extremely difficult to figure out the right set of attributes that are contributing to understanding the buyer's behavior as such.\n",
    "\n",
    "\n",
    "This dataset has been collected across various property aggregators across India. In this competition, provided the 12 influencing factors your role as a data scientist is to predict the prices as accurately as possible. Also, in this competition, you will get a lot of room for feature engineering and mastering advanced regression techniques such as Random Forest, Deep Neural Nets, and various other ensembling techniques.\n",
    "\n"
   ]
  },
  {
   "cell_type": "markdown",
   "id": "83d37754",
   "metadata": {},
   "source": [
    "[Click here to Get Dataset](https://www.kaggle.com/datasets/anmolkumar/house-price-prediction-challenge)"
   ]
  },
  {
   "cell_type": "markdown",
   "id": "55e66f5d",
   "metadata": {},
   "source": [
    "### Import Libararies \n"
   ]
  },
  {
   "cell_type": "code",
   "execution_count": 1,
   "id": "633b321d",
   "metadata": {},
   "outputs": [
    {
     "name": "stderr",
     "output_type": "stream",
     "text": [
      "UsageError: unrecognized arguments: # for more controls - magic keyword\n"
     ]
    }
   ],
   "source": [
    "\n",
    "import numpy as np\n",
    "import pandas as pd\n",
    "\n",
    "import matplotlib.pyplot as plt\n",
    "\n",
    "import seaborn as sns\n",
    "\n",
    "%matplotlib inline  # for more controls - magic keyword\n",
    "\n"
   ]
  },
  {
   "cell_type": "code",
   "execution_count": null,
   "id": "e0541adb",
   "metadata": {},
   "outputs": [],
   "source": []
  },
  {
   "cell_type": "markdown",
   "id": "b7660d90",
   "metadata": {},
   "source": [
    "### Read Data - Extract Some info and Statistics"
   ]
  },
  {
   "cell_type": "code",
   "execution_count": null,
   "id": "c655bf7c",
   "metadata": {},
   "outputs": [],
   "source": [
    "data = pd.read_csv('train.csv')\n",
    "\n",
    "data.head()"
   ]
  },
  {
   "cell_type": "markdown",
   "id": "32baa95c",
   "metadata": {},
   "source": [
    "### Explore Data"
   ]
  },
  {
   "cell_type": "code",
   "execution_count": null,
   "id": "806117dc",
   "metadata": {},
   "outputs": [],
   "source": [
    "data.info()"
   ]
  },
  {
   "cell_type": "code",
   "execution_count": null,
   "id": "26a77e9f",
   "metadata": {},
   "outputs": [],
   "source": [
    "data.describe()"
   ]
  },
  {
   "cell_type": "markdown",
   "id": "fbfbce65",
   "metadata": {},
   "source": [
    "#### There is som outliers in our data such as the minimum and maximum in SQUARE_FT and in TARGET(PRICE_IN_LACS)\n",
    "\n",
    "\n",
    "\n"
   ]
  },
  {
   "cell_type": "code",
   "execution_count": null,
   "id": "3c12e151",
   "metadata": {},
   "outputs": [],
   "source": [
    "\n",
    "\n",
    "\n",
    "# check if there is null values"
   ]
  },
  {
   "cell_type": "code",
   "execution_count": null,
   "id": "182e795d",
   "metadata": {},
   "outputs": [],
   "source": [
    "data.isnull().sum()"
   ]
  },
  {
   "cell_type": "markdown",
   "id": "029b28b1",
   "metadata": {},
   "source": [
    "#### There is no null values in our data"
   ]
  },
  {
   "cell_type": "markdown",
   "id": "b99d3424",
   "metadata": {},
   "source": [
    "### Data Cleaning and handling the outliers  -   Exploratory Data Analysis "
   ]
  },
  {
   "cell_type": "code",
   "execution_count": null,
   "id": "46e72dca",
   "metadata": {},
   "outputs": [],
   "source": [
    "# Handling the outliers - 1 - using filtering\n",
    "\n",
    "\n",
    "sns.boxplot(data['SQUARE_FT']) # 1- first way to check outliers (boxplot)"
   ]
  },
  {
   "cell_type": "code",
   "execution_count": null,
   "id": "c5a5e7c4",
   "metadata": {},
   "outputs": [],
   "source": [
    "#sns.histplot(data['SQUARE_FT']) - the second way using histogram"
   ]
  },
  {
   "cell_type": "code",
   "execution_count": null,
   "id": "e1d0f71a",
   "metadata": {},
   "outputs": [],
   "source": [
    "data = data[(data['SQUARE_FT'] > 430) & (data['SQUARE_FT'] < 2.550688e+03)]\n",
    "\n",
    "data"
   ]
  },
  {
   "cell_type": "code",
   "execution_count": null,
   "id": "d45091d2",
   "metadata": {},
   "outputs": [],
   "source": [
    "data.describe()"
   ]
  },
  {
   "cell_type": "markdown",
   "id": "50c264de",
   "metadata": {},
   "source": []
  },
  {
   "cell_type": "code",
   "execution_count": null,
   "id": "fcc7f962",
   "metadata": {},
   "outputs": [],
   "source": [
    "sns.boxplot(data['SQUARE_FT'])"
   ]
  },
  {
   "cell_type": "code",
   "execution_count": null,
   "id": "05a3adc3",
   "metadata": {},
   "outputs": [],
   "source": [
    "data.shape"
   ]
  },
  {
   "cell_type": "markdown",
   "id": "b05053d2",
   "metadata": {},
   "source": [
    "#### Now there is some logic in our data (data is logic and there is less than outliers data)"
   ]
  },
  {
   "cell_type": "code",
   "execution_count": null,
   "id": "6450003f",
   "metadata": {},
   "outputs": [],
   "source": []
  },
  {
   "cell_type": "markdown",
   "id": "81bcda04",
   "metadata": {},
   "source": [
    "### Data Visualization"
   ]
  },
  {
   "cell_type": "code",
   "execution_count": null,
   "id": "02001092",
   "metadata": {},
   "outputs": [],
   "source": [
    "# ways of analysis (Visualize) [univariate  Analysis (one by one), Bivariate  Analysis (two features), Multivariate  Analysis(multiple features)]"
   ]
  },
  {
   "cell_type": "markdown",
   "id": "00d99cde",
   "metadata": {},
   "source": [
    "##### Univariate analysis"
   ]
  },
  {
   "cell_type": "code",
   "execution_count": null,
   "id": "1187aa04",
   "metadata": {},
   "outputs": [],
   "source": [
    "\n",
    "sns.countplot(data['UNDER_CONSTRUCTION'])  # has constructed or still"
   ]
  },
  {
   "cell_type": "code",
   "execution_count": null,
   "id": "9eaf97ed",
   "metadata": {},
   "outputs": [],
   "source": [
    "sns.countplot(data['BHK_OR_RK'])  # type of room"
   ]
  },
  {
   "cell_type": "code",
   "execution_count": null,
   "id": "87598258",
   "metadata": {},
   "outputs": [],
   "source": [
    "data['BHK_OR_RK'].value_counts() # just only 4 and almost data is BHK type"
   ]
  },
  {
   "cell_type": "code",
   "execution_count": null,
   "id": "e81b70c9",
   "metadata": {},
   "outputs": [],
   "source": [
    "# there is no variance (BHK_OR_RK) column or feature - No variaty - then this feature doesn't affect in prediction - Droping"
   ]
  },
  {
   "cell_type": "code",
   "execution_count": null,
   "id": "4b0f05a7",
   "metadata": {},
   "outputs": [],
   "source": [
    "sns.countplot(data['POSTED_BY']) # posted by who"
   ]
  },
  {
   "cell_type": "code",
   "execution_count": null,
   "id": "4641f4a9",
   "metadata": {},
   "outputs": [],
   "source": [
    "sns.countplot(data['READY_TO_MOVE'])"
   ]
  },
  {
   "cell_type": "code",
   "execution_count": null,
   "id": "d004e791",
   "metadata": {},
   "outputs": [],
   "source": [
    "sns.countplot(data['RERA'])"
   ]
  },
  {
   "cell_type": "code",
   "execution_count": null,
   "id": "eb5c3f9d",
   "metadata": {},
   "outputs": [],
   "source": [
    "sns.countplot(data['BHK_NO.'])"
   ]
  },
  {
   "cell_type": "code",
   "execution_count": null,
   "id": "b5d1ed1d",
   "metadata": {},
   "outputs": [],
   "source": [
    "sns.countplot(data['READY_TO_MOVE'])"
   ]
  },
  {
   "cell_type": "code",
   "execution_count": null,
   "id": "e90dc021",
   "metadata": {},
   "outputs": [],
   "source": [
    "data['READY_TO_MOVE'].value_counts()"
   ]
  },
  {
   "cell_type": "code",
   "execution_count": null,
   "id": "2bff9745",
   "metadata": {},
   "outputs": [],
   "source": [
    "sns.countplot(data['RESALE'])"
   ]
  },
  {
   "cell_type": "markdown",
   "id": "1aa69603",
   "metadata": {},
   "source": [
    "##### Bivariate analysis\n"
   ]
  },
  {
   "cell_type": "code",
   "execution_count": null,
   "id": "665a39d7",
   "metadata": {},
   "outputs": [],
   "source": [
    "# using Scatterplot\n",
    "# SQUARE_FT VS TARGET(PRICE_IN_LACS\n",
    "sns.scatterplot(data['SQUARE_FT'], data['TARGET(PRICE_IN_LACS)'])"
   ]
  },
  {
   "cell_type": "code",
   "execution_count": null,
   "id": "3473d252",
   "metadata": {},
   "outputs": [],
   "source": [
    "# there is no big relationship with them"
   ]
  },
  {
   "cell_type": "code",
   "execution_count": null,
   "id": "b3b43be3",
   "metadata": {},
   "outputs": [],
   "source": []
  },
  {
   "cell_type": "code",
   "execution_count": null,
   "id": "fcf990cf",
   "metadata": {},
   "outputs": [],
   "source": [
    "sns.scatterplot(data['BHK_NO.'], data['TARGET(PRICE_IN_LACS)'])"
   ]
  },
  {
   "cell_type": "code",
   "execution_count": null,
   "id": "563e74ca",
   "metadata": {},
   "outputs": [],
   "source": [
    "sns.scatterplot(data['READY_TO_MOVE'], data['TARGET(PRICE_IN_LACS)'])"
   ]
  },
  {
   "cell_type": "code",
   "execution_count": null,
   "id": "30ef9362",
   "metadata": {},
   "outputs": [],
   "source": [
    "sns.scatterplot(data['POSTED_BY'], data['TARGET(PRICE_IN_LACS)'])"
   ]
  },
  {
   "cell_type": "code",
   "execution_count": null,
   "id": "edf9e5ba",
   "metadata": {},
   "outputs": [],
   "source": [
    "sns.scatterplot(data['RESALE'], data['TARGET(PRICE_IN_LACS)'])"
   ]
  },
  {
   "cell_type": "code",
   "execution_count": null,
   "id": "34938bda",
   "metadata": {},
   "outputs": [],
   "source": [
    "sns.scatterplot(data['UNDER_CONSTRUCTION'], data['TARGET(PRICE_IN_LACS)'])"
   ]
  },
  {
   "cell_type": "markdown",
   "id": "e44c33e1",
   "metadata": {},
   "source": [
    "##### Multivariate analysis"
   ]
  },
  {
   "cell_type": "code",
   "execution_count": null,
   "id": "f41f1549",
   "metadata": {},
   "outputs": [],
   "source": [
    "#using pairplot\n",
    "sns.pairplot(data)"
   ]
  },
  {
   "cell_type": "code",
   "execution_count": null,
   "id": "8ffe6090",
   "metadata": {},
   "outputs": [],
   "source": [
    "plt.figure(figsize=[15, 8])\n",
    "plt.title(\"Relationship between the whole data\")\n",
    "sns.heatmap(data.corr(), annot=True, )"
   ]
  },
  {
   "cell_type": "markdown",
   "id": "c494b70c",
   "metadata": {},
   "source": [
    "### Finding and Answering Questions (Q & A)"
   ]
  },
  {
   "cell_type": "markdown",
   "id": "2ca763a8",
   "metadata": {},
   "source": [
    "#### How much department's price that selled by Deller, Owner Builder ?"
   ]
  },
  {
   "cell_type": "code",
   "execution_count": null,
   "id": "8ea0acfe",
   "metadata": {},
   "outputs": [],
   "source": [
    "data.groupby('POSTED_BY').sum()['TARGET(PRICE_IN_LACS)']"
   ]
  },
  {
   "cell_type": "code",
   "execution_count": null,
   "id": "4805c1e0",
   "metadata": {},
   "outputs": [],
   "source": [
    "data.groupby('POSTED_BY').sum()['TARGET(PRICE_IN_LACS)'].plot.bar()"
   ]
  },
  {
   "cell_type": "code",
   "execution_count": null,
   "id": "e9071def",
   "metadata": {},
   "outputs": [],
   "source": [
    "#data.groupby('POSTED_BY').sum()['TARGET(PRICE_IN_LACS)'].plot.pie()"
   ]
  },
  {
   "cell_type": "markdown",
   "id": "99f73211",
   "metadata": {},
   "source": [
    "#### How many Departments posted by Deller, Owner, Builder ?"
   ]
  },
  {
   "cell_type": "code",
   "execution_count": null,
   "id": "41addf3e",
   "metadata": {},
   "outputs": [],
   "source": [
    "data['POSTED_BY'].value_counts()"
   ]
  },
  {
   "cell_type": "code",
   "execution_count": null,
   "id": "47c42ef8",
   "metadata": {},
   "outputs": [],
   "source": [
    "data['POSTED_BY'].value_counts().plot.bar()"
   ]
  },
  {
   "cell_type": "markdown",
   "id": "b4e0944b",
   "metadata": {},
   "source": [
    "#### What is the mean price for every department accourding to the number of rooms ?"
   ]
  },
  {
   "cell_type": "code",
   "execution_count": null,
   "id": "92dc3cb4",
   "metadata": {},
   "outputs": [],
   "source": [
    "data.groupby('BHK_NO.').mean()['TARGET(PRICE_IN_LACS)']"
   ]
  },
  {
   "cell_type": "code",
   "execution_count": null,
   "id": "a78ec9d8",
   "metadata": {},
   "outputs": [],
   "source": [
    "data.groupby('BHK_NO.').mean()['TARGET(PRICE_IN_LACS)'].plot.bar()"
   ]
  },
  {
   "cell_type": "code",
   "execution_count": null,
   "id": "99690eff",
   "metadata": {},
   "outputs": [],
   "source": []
  },
  {
   "cell_type": "markdown",
   "id": "7acbe65d",
   "metadata": {},
   "source": [
    "### Feature Engineering and Feature Selecting"
   ]
  },
  {
   "cell_type": "code",
   "execution_count": null,
   "id": "55eef251",
   "metadata": {},
   "outputs": [],
   "source": [
    "# feature engineering we create new features from existing features and feature selecting we selecet concerned features"
   ]
  },
  {
   "cell_type": "markdown",
   "id": "64b39952",
   "metadata": {},
   "source": [
    "#### 1- Feature Engineering "
   ]
  },
  {
   "cell_type": "code",
   "execution_count": null,
   "id": "f6a66cb3",
   "metadata": {},
   "outputs": [],
   "source": [
    "data['location'] = data['ADDRESS'].apply(lambda x: str(x).split(',')[-1]) # split returns a list and -1 to return the last item\n",
    "\n",
    "data['location']"
   ]
  },
  {
   "cell_type": "code",
   "execution_count": null,
   "id": "a8a12948",
   "metadata": {},
   "outputs": [],
   "source": [
    "data.head()"
   ]
  },
  {
   "cell_type": "code",
   "execution_count": null,
   "id": "65b2ea57",
   "metadata": {},
   "outputs": [],
   "source": [
    "#-----------------------------------------  Done - New Feature Added  --------------------------#"
   ]
  },
  {
   "cell_type": "code",
   "execution_count": null,
   "id": "8c0802d0",
   "metadata": {},
   "outputs": [],
   "source": [
    "data['location'].value_counts()"
   ]
  },
  {
   "cell_type": "code",
   "execution_count": null,
   "id": "8260dc4c",
   "metadata": {},
   "outputs": [],
   "source": [
    "#data['location'].unique()"
   ]
  },
  {
   "cell_type": "code",
   "execution_count": null,
   "id": "aae93f71",
   "metadata": {},
   "outputs": [],
   "source": [
    "plt.figure(figsize=[15, 10])\n",
    "data.groupby('location').sum().head(5)['TARGET(PRICE_IN_LACS)'].plot.bar()"
   ]
  },
  {
   "cell_type": "code",
   "execution_count": null,
   "id": "cfd12dde",
   "metadata": {},
   "outputs": [],
   "source": [
    "#-------------------------- Here we noticed that the location is important to us --------------------#"
   ]
  },
  {
   "cell_type": "markdown",
   "id": "eafebc35",
   "metadata": {},
   "source": [
    "#### 2 - Feature Selecting"
   ]
  },
  {
   "cell_type": "markdown",
   "id": "1f9d7ddf",
   "metadata": {},
   "source": [
    "###### 2.1 - Drop the unimportant columns"
   ]
  },
  {
   "cell_type": "code",
   "execution_count": null,
   "id": "320b8450",
   "metadata": {},
   "outputs": [],
   "source": [
    "data.drop(['BHK_OR_RK', 'ADDRESS', 'LATITUDE', 'LONGITUDE'], axis=1, inplace=True)"
   ]
  },
  {
   "cell_type": "code",
   "execution_count": null,
   "id": "88fe3f69",
   "metadata": {},
   "outputs": [],
   "source": [
    "data.head()"
   ]
  },
  {
   "cell_type": "markdown",
   "id": "031b27bf",
   "metadata": {},
   "source": [
    "###### 2.2- Convert Categorical to numerical"
   ]
  },
  {
   "cell_type": "code",
   "execution_count": null,
   "id": "6a35b6f8",
   "metadata": {},
   "outputs": [],
   "source": [
    "data = pd.get_dummies(data, drop_first=True)"
   ]
  },
  {
   "cell_type": "code",
   "execution_count": null,
   "id": "fe2de161",
   "metadata": {},
   "outputs": [],
   "source": [
    "data.head()"
   ]
  },
  {
   "cell_type": "markdown",
   "id": "31814744",
   "metadata": {},
   "source": [
    "### Spliting Data to [Train,  Test] "
   ]
  },
  {
   "cell_type": "code",
   "execution_count": null,
   "id": "4e7a123c",
   "metadata": {},
   "outputs": [],
   "source": [
    "X = data.drop('TARGET(PRICE_IN_LACS)', axis=1)\n",
    "Y = data['TARGET(PRICE_IN_LACS)']"
   ]
  },
  {
   "cell_type": "code",
   "execution_count": null,
   "id": "abc34d83",
   "metadata": {},
   "outputs": [],
   "source": [
    "from sklearn.model_selection import train_test_split\n",
    "\n",
    "x_train, x_test, y_train, y_test = train_test_split(X, Y, test_size=0.2,random_state=42)# to choose a specific random sample  "
   ]
  },
  {
   "cell_type": "code",
   "execution_count": null,
   "id": "330c157c",
   "metadata": {},
   "outputs": [],
   "source": [
    "x_train.head()"
   ]
  },
  {
   "cell_type": "markdown",
   "id": "7048b3f5",
   "metadata": {},
   "source": [
    "##### Feature Scaling "
   ]
  },
  {
   "cell_type": "code",
   "execution_count": null,
   "id": "954c63f4",
   "metadata": {},
   "outputs": [],
   "source": [
    "# Normalization and Standarization ---> two ways to apply scaling"
   ]
  },
  {
   "cell_type": "code",
   "execution_count": null,
   "id": "9e61cd76",
   "metadata": {},
   "outputs": [],
   "source": [
    "# Normalization - all the values between (1, -1) we can't use when there are outliers"
   ]
  },
  {
   "cell_type": "code",
   "execution_count": null,
   "id": "7b990c57",
   "metadata": {},
   "outputs": [],
   "source": [
    "# Standarization - we calculate the mean and standard deviation  and use StandardScaler module to perform that"
   ]
  },
  {
   "cell_type": "code",
   "execution_count": null,
   "id": "eafe34ee",
   "metadata": {},
   "outputs": [],
   "source": [
    "# in our case we will use Standarization"
   ]
  },
  {
   "cell_type": "code",
   "execution_count": null,
   "id": "78240184",
   "metadata": {},
   "outputs": [],
   "source": [
    "from sklearn.preprocessing import StandardScaler\n",
    "scaler = StandardScaler()\n",
    "\n",
    "x_train_scaled = scaler.fit_transform(x_train)"
   ]
  },
  {
   "cell_type": "code",
   "execution_count": null,
   "id": "8ef3ac90",
   "metadata": {},
   "outputs": [],
   "source": [
    "#x_train_scaled"
   ]
  },
  {
   "cell_type": "code",
   "execution_count": null,
   "id": "cde3e7d3",
   "metadata": {},
   "outputs": [],
   "source": [
    "x_test_scaled = scaler.transform(x_test) # we don't use fit because x_test is hidden data for the model\n",
    "\n",
    "#x_test_scaled"
   ]
  },
  {
   "cell_type": "code",
   "execution_count": null,
   "id": "1218c401",
   "metadata": {},
   "outputs": [],
   "source": []
  },
  {
   "cell_type": "markdown",
   "id": "bbb0ad71",
   "metadata": {},
   "source": [
    "### Machine Learing Model Building"
   ]
  },
  {
   "cell_type": "markdown",
   "id": "9be1ad41",
   "metadata": {},
   "source": [
    "#### 1- Building the model"
   ]
  },
  {
   "cell_type": "code",
   "execution_count": null,
   "id": "3999b09d",
   "metadata": {},
   "outputs": [],
   "source": [
    "\n",
    "from sklearn.linear_model import LinearRegression\n",
    "\n",
    "linear_model = LinearRegression()\n",
    "\n",
    "linear_model.fit(x_train_scaled, y_train)"
   ]
  },
  {
   "cell_type": "markdown",
   "id": "72bab5c3",
   "metadata": {},
   "source": [
    "#### 2- Calculate Y Prediction (Predict the results) "
   ]
  },
  {
   "cell_type": "code",
   "execution_count": null,
   "id": "b1db08c0",
   "metadata": {},
   "outputs": [],
   "source": [
    "y_predicted = linear_model.predict(x_test_scaled)"
   ]
  },
  {
   "cell_type": "code",
   "execution_count": null,
   "id": "3ac0e2d4",
   "metadata": {},
   "outputs": [],
   "source": [
    "y_predicted"
   ]
  },
  {
   "cell_type": "markdown",
   "id": "0d89d540",
   "metadata": {},
   "source": [
    "#### 3- Calculate the Performance and Accuracy of the model"
   ]
  },
  {
   "cell_type": "code",
   "execution_count": null,
   "id": "6b9a1df6",
   "metadata": {},
   "outputs": [],
   "source": [
    "linear_model.score(x_train_scaled, y_train) # evaluate the model on train data"
   ]
  },
  {
   "cell_type": "code",
   "execution_count": null,
   "id": "1784a8f1",
   "metadata": {},
   "outputs": [],
   "source": [
    "linear_model.score(x_test_scaled, y_test) # evaluate the model on train data-the model is under fitting -1.1198126..."
   ]
  },
  {
   "cell_type": "code",
   "execution_count": null,
   "id": "a7b3d278",
   "metadata": {},
   "outputs": [],
   "source": [
    "# After calculate the Accuracy we found out that model is not good for prediction - use a nother model"
   ]
  },
  {
   "cell_type": "markdown",
   "id": "225e3ad3",
   "metadata": {},
   "source": [
    "#### Using Lasso model"
   ]
  },
  {
   "cell_type": "code",
   "execution_count": null,
   "id": "8e330710",
   "metadata": {},
   "outputs": [],
   "source": [
    "\n",
    "from sklearn.linear_model import Lasso\n",
    "\n",
    "lasso_model = Lasso()"
   ]
  },
  {
   "cell_type": "code",
   "execution_count": null,
   "id": "f7a4c576",
   "metadata": {},
   "outputs": [],
   "source": [
    "lasso_model.fit(x_train_scaled, y_train)"
   ]
  },
  {
   "cell_type": "code",
   "execution_count": null,
   "id": "a1825973",
   "metadata": {},
   "outputs": [],
   "source": [
    "y_predicted_lasso = lasso_model.predict(x_test_scaled)"
   ]
  },
  {
   "cell_type": "code",
   "execution_count": null,
   "id": "ab5dbca0",
   "metadata": {},
   "outputs": [],
   "source": [
    "y_predicted_lasso"
   ]
  },
  {
   "cell_type": "code",
   "execution_count": null,
   "id": "e15d0417",
   "metadata": {},
   "outputs": [],
   "source": [
    "lasso_model.score(x_train_scaled, y_train)"
   ]
  },
  {
   "cell_type": "code",
   "execution_count": null,
   "id": "b7002f5e",
   "metadata": {},
   "outputs": [],
   "source": [
    "lasso_model.score(x_test_scaled, y_test)"
   ]
  },
  {
   "cell_type": "code",
   "execution_count": null,
   "id": "22340092",
   "metadata": {},
   "outputs": [],
   "source": [
    "# another measure -- to measure the error using mean_squared_error from sklearn module \n",
    "\n",
    "from sklearn.metrics import mean_squared_error\n",
    "m_s_error = mean_squared_error(y_test, y_predicted_lasso)\n",
    "\n",
    "m_s_error"
   ]
  },
  {
   "cell_type": "markdown",
   "id": "f8e4b87e",
   "metadata": {},
   "source": [
    "### Using Ridge Model"
   ]
  },
  {
   "cell_type": "code",
   "execution_count": null,
   "id": "87a6d465",
   "metadata": {},
   "outputs": [],
   "source": [
    "from sklearn.linear_model import Ridge\n",
    "\n",
    "ridge_model = Ridge()"
   ]
  },
  {
   "cell_type": "code",
   "execution_count": null,
   "id": "8d7ef176",
   "metadata": {},
   "outputs": [],
   "source": [
    "ridge_model.fit(x_train_scaled, y_train)"
   ]
  },
  {
   "cell_type": "code",
   "execution_count": null,
   "id": "fa1151d1",
   "metadata": {},
   "outputs": [],
   "source": [
    "y_predicted_ridge = ridge_model.predict(x_test_scaled)\n",
    "\n",
    "y_predicted_ridge"
   ]
  },
  {
   "cell_type": "code",
   "execution_count": null,
   "id": "0ffac6c0",
   "metadata": {},
   "outputs": [],
   "source": [
    "ridge_model.score(x_train_scaled, y_train)"
   ]
  },
  {
   "cell_type": "code",
   "execution_count": null,
   "id": "f1343b1b",
   "metadata": {},
   "outputs": [],
   "source": [
    "ridge_model.score(x_test_scaled, y_test)"
   ]
  },
  {
   "cell_type": "markdown",
   "id": "1ddffda5",
   "metadata": {},
   "source": [
    "#### Using Random Forest Regressor Model"
   ]
  },
  {
   "cell_type": "code",
   "execution_count": null,
   "id": "6bfc2a43",
   "metadata": {},
   "outputs": [],
   "source": [
    "from sklearn.ensemble import RandomForestRegressor\n",
    "rf_model = RandomForestRegressor()"
   ]
  },
  {
   "cell_type": "code",
   "execution_count": null,
   "id": "030e68c6",
   "metadata": {},
   "outputs": [],
   "source": [
    "rf_model.fit(x_train_scaled, y_train)"
   ]
  },
  {
   "cell_type": "code",
   "execution_count": null,
   "id": "423ef077",
   "metadata": {},
   "outputs": [],
   "source": [
    "y_predicted_rf = rf_model.predict(x_test_scaled)\n",
    "\n",
    "y_predicted_rf"
   ]
  },
  {
   "cell_type": "code",
   "execution_count": null,
   "id": "257d7c1f",
   "metadata": {},
   "outputs": [],
   "source": [
    "rf_model.score(x_train_scaled, y_train)"
   ]
  },
  {
   "cell_type": "code",
   "execution_count": null,
   "id": "02c07991",
   "metadata": {},
   "outputs": [],
   "source": [
    "rf_model.score(x_test_scaled, y_test)"
   ]
  },
  {
   "cell_type": "markdown",
   "id": "0321c79e",
   "metadata": {},
   "source": [
    "In this case we found out that this model is overfitting  -- evaluation on train 90 and on test 46 - but it is the best between them (RandomForestRegressor Model)"
   ]
  },
  {
   "cell_type": "code",
   "execution_count": null,
   "id": "d60bb5d8",
   "metadata": {},
   "outputs": [],
   "source": [
    "newData = pd.DataFrame({'TARGET(PRICE_IN_LACS)': y_predicted_rf})\n",
    "newData"
   ]
  },
  {
   "cell_type": "code",
   "execution_count": null,
   "id": "c9833518",
   "metadata": {},
   "outputs": [],
   "source": [
    "newData.to_csv('submission.csv')"
   ]
  },
  {
   "cell_type": "code",
   "execution_count": null,
   "id": "39ab97c4",
   "metadata": {},
   "outputs": [],
   "source": []
  }
 ],
 "metadata": {
  "kernelspec": {
   "display_name": "Python 3 (ipykernel)",
   "language": "python",
   "name": "python3"
  },
  "language_info": {
   "codemirror_mode": {
    "name": "ipython",
    "version": 3
   },
   "file_extension": ".py",
   "mimetype": "text/x-python",
   "name": "python",
   "nbconvert_exporter": "python",
   "pygments_lexer": "ipython3",
   "version": "3.9.12"
  }
 },
 "nbformat": 4,
 "nbformat_minor": 5
}
